{
 "cells": [
  {
   "cell_type": "markdown",
   "metadata": {},
   "source": [
    "Our Nerual network architecture will be as follows..\n",
    "--Input will have three variables with 4 Feaures\n",
    "--Will have a our filter which will have same no of channel as Input and hence our Filter will be (4,3)\n",
    "--Three Bias values will be available as we have three input\n",
    "--Have one hidden layer\n",
    "--Activation Function is being assumed as Sigmoid\n",
    "--Outputs have been clarified and Response will be compared with Output to calculate the Error\n",
    "--Weights for Kernel and Hidden layer will be updated based on error to minimise the error "
   ]
  },
  {
   "cell_type": "markdown",
   "metadata": {},
   "source": [
    "This section explains the Input value which is is matrix. We need to set the matrix element (1,1), (1,2), (2.1),(2,3), (2,4), (3,2) and (3,4) to 1. This input will then be passed through our kernel.\n",
    "Note: Here we have three Input and their 4 feature values. So the matrix size is (3,4)"
   ]
  },
  {
   "cell_type": "markdown",
   "metadata": {},
   "source": [
    "Back Propagation has following phases and they are\n",
    "-Initialisation of weights for Kernel and Hidden filters\n",
    "    -Initialise all the weights for all the neurals to some dandom values    \n",
    "-Feed Forward from Input layer to output of layers\n",
    "    -Propagate input to hidden and output layers\n",
    "    -Calculate input to hidden layer and output of hidden layers\n",
    "    -Calculate input to the Output layer\n",
    "-Backprogataion of Errors\n",
    "    -Calculate error for output layers neurons\n",
    "-Updation of weights and biases"
   ]
  },
  {
   "cell_type": "code",
   "execution_count": null,
   "metadata": {},
   "outputs": [],
   "source": [
    "import numpy as np\n",
    "import pandas as pd\n",
    "import scipy as sc\n",
    "import plotly as pt\n",
    "import matplotlib as mp\n",
    "import sys as sy\n",
    "import random as rd\n",
    "from scipy.stats import logistic as lg"
   ]
  },
  {
   "cell_type": "code",
   "execution_count": 2,
   "metadata": {},
   "outputs": [
    {
     "name": "stdout",
     "output_type": "stream",
     "text": [
      "[[0. 0. 0. 0.]\n",
      " [0. 0. 0. 0.]\n",
      " [0. 0. 0. 0.]]\n",
      "Input Is [[1. 0. 1. 0.]\n",
      " [1. 0. 1. 1.]\n",
      " [0. 1. 0. 1.]]\n"
     ]
    }
   ],
   "source": [
    "row =3\n",
    "column =4\n",
    "InputValue = np.zeros(shape=(row,column))\n",
    "Input_matrix = np.matrix(np.array(InputValue))\n",
    "\n",
    "print(Input_matrix)\n",
    "Input_matrix[0,0] =1\n",
    "Input_matrix[0,2] =1\n",
    "Input_matrix[1,0] =1\n",
    "Input_matrix[1,2] =1\n",
    "Input_matrix[1,3] =1\n",
    "Input_matrix[2,1] =1\n",
    "Input_matrix[2,3] =1\n",
    "print(\"Input Is\",Input_matrix)\n"
   ]
  },
  {
   "cell_type": "markdown",
   "metadata": {},
   "source": [
    "This section explains our kernel with random values as weightage. Initialize weights and biases with random values. Note: Here the Bias has three value which is alligned with 3 Input."
   ]
  },
  {
   "cell_type": "code",
   "execution_count": 3,
   "metadata": {},
   "outputs": [
    {
     "name": "stdout",
     "output_type": "stream",
     "text": [
      "[[0.2579583  0.06285557 0.42894311]\n",
      " [0.37526935 0.54573107 0.98683106]\n",
      " [0.91736504 0.0356562  0.15877861]\n",
      " [0.95315662 0.75385089 0.20946059]]\n",
      "Filter Weights: [[0.2579583  0.06285557 0.42894311]\n",
      " [0.37526935 0.54573107 0.98683106]\n",
      " [0.91736504 0.0356562  0.15877861]\n",
      " [0.95315662 0.75385089 0.20946059]]\n",
      "Bias Values: [[0.67667588 0.36880179 0.78954195]]\n"
     ]
    }
   ],
   "source": [
    "## Defining the kernel weights\n",
    "wh = np.random.rand(4,3)\n",
    "print(wh)\n",
    "wh_matrix = np.matrix(np.array(wh))\n",
    "print(\"Filter Weights:\", wh_matrix)\n",
    "\n",
    "## Now defining the bias values\n",
    "bias = np.random.rand(1,3)\n",
    "bias_matrix = np.matrix(np.array(bias))\n",
    "print(\"Bias Values:\", bias_matrix)\n"
   ]
  },
  {
   "cell_type": "markdown",
   "metadata": {},
   "source": [
    "Following section calculate input of Hidden layer. We have Input matrix, then Kernel and so Output from kernel will be dot product of Input and Kernel matrix. Then bias will be added with that."
   ]
  },
  {
   "cell_type": "code",
   "execution_count": 4,
   "metadata": {},
   "outputs": [
    {
     "name": "stdout",
     "output_type": "stream",
     "text": [
      "Output of Kernel: [[1.17532334 0.09851177 0.58772172]\n",
      " [2.12847996 0.85236266 0.79718232]\n",
      " [1.32842597 1.29958196 1.19629165]]\n",
      "Output of Kernel after Bias Addition: [[1.85199922 0.46731356 1.37726367]\n",
      " [2.80515584 1.22116445 1.58672427]\n",
      " [2.00510185 1.66838375 1.9858336 ]]\n"
     ]
    }
   ],
   "source": [
    "## here we are doing dot product of two matrix\n",
    "Output_Kernel = np.dot(Input_matrix,wh_matrix)\n",
    "print(\"Output of Kernel:\", Output_Kernel)\n",
    "Output_Kernel_Bias = np.add(Output_Kernel,bias_matrix)\n",
    "print(\"Output of Kernel after Bias Addition:\", Output_Kernel_Bias)"
   ]
  },
  {
   "cell_type": "code",
   "execution_count": 5,
   "metadata": {},
   "outputs": [],
   "source": [
    "## This function is meant for sigmoid derivative\n",
    "def sigmoid_mod(x):\n",
    "    return 1 / (1 + np.exp(-x))"
   ]
  },
  {
   "cell_type": "markdown",
   "metadata": {},
   "source": [
    "Our activation function is taken as sigmoid one. So all input to our hidden network will be going through sigmoid activation function to have output."
   ]
  },
  {
   "cell_type": "code",
   "execution_count": 6,
   "metadata": {},
   "outputs": [
    {
     "name": "stdout",
     "output_type": "stream",
     "text": [
      "Output of Hidden Layer: [[0.86436166 0.61474771 0.79855117]\n",
      " [0.9429538  0.77226841 0.83015473]\n",
      " [0.8813317  0.84136021 0.87930166]]\n"
     ]
    }
   ],
   "source": [
    "Input_Hidden_layer = Output_Kernel_Bias\n",
    "##Output_hidden_layer = lg.cdf(Input_Hidden_layer)\n",
    "Output_hidden_layer = sigmoid_mod(Input_Hidden_layer)  ### applying sigmoid\n",
    "\n",
    "\n",
    "print(\"Output of Hidden Layer:\", Output_hidden_layer)"
   ]
  },
  {
   "cell_type": "markdown",
   "metadata": {},
   "source": [
    "This section first defines the weights for hindden layer and then bias fo hidden layer. Hiddden layer has activation function and output from activation function is a matrix is (3,3). So our weights for hidden layer will have only 3 variables with one feature. We will take these weights as random ones."
   ]
  },
  {
   "cell_type": "code",
   "execution_count": 7,
   "metadata": {},
   "outputs": [
    {
     "name": "stdout",
     "output_type": "stream",
     "text": [
      "Hidden Layer Weights: [[0.75179991]\n",
      " [0.0161383 ]\n",
      " [0.70208934]]\n",
      "Hidden Layer Bias Value: [[0.6218857]]\n"
     ]
    }
   ],
   "source": [
    "###Defining the weights for hidden layer\n",
    "wout = np.random.rand(3,1)\n",
    "wout_matrix = np.matrix(np.array(wout))\n",
    "print(\"Hidden Layer Weights:\", wout_matrix)\n",
    "##defining the bias for hidden layer\n",
    "wout_bias = np.random.rand(1,1)\n",
    "print(\"Hidden Layer Bias Value:\", wout_bias)\n"
   ]
  },
  {
   "cell_type": "markdown",
   "metadata": {},
   "source": [
    "This section explains how the hidden layer neural network applies weights and then gets influenced by bias at the hidden layer."
   ]
  },
  {
   "cell_type": "code",
   "execution_count": 8,
   "metadata": {},
   "outputs": [
    {
     "name": "stdout",
     "output_type": "stream",
     "text": [
      "Hidden layer output after weight: [[1.22040227]\n",
      " [1.30421847]\n",
      " [1.29351154]]\n",
      "Hidden layer output after Bias: [[1.84228797]\n",
      " [1.92610417]\n",
      " [1.91539724]]\n"
     ]
    }
   ],
   "source": [
    "Output_hidden_layer_after_weight = np.dot(Output_hidden_layer,wout_matrix)\n",
    "print(\"Hidden layer output after weight:\", Output_hidden_layer_after_weight)\n",
    "\n",
    "Output_hidden_layer_after_bias = np.add(Output_hidden_layer_after_weight,wout_bias)\n",
    "print(\"Hidden layer output after Bias:\", Output_hidden_layer_after_bias)\n"
   ]
  },
  {
   "cell_type": "markdown",
   "metadata": {},
   "source": [
    "Our expected output is a having three input value as 1,1,0."
   ]
  },
  {
   "cell_type": "code",
   "execution_count": 9,
   "metadata": {},
   "outputs": [
    {
     "name": "stdout",
     "output_type": "stream",
     "text": [
      "Expected Output: [[1.]\n",
      " [1.]\n",
      " [0.]]\n"
     ]
    }
   ],
   "source": [
    "rowOut =3\n",
    "columnOut =1\n",
    "OutputValue = np.zeros(shape=(rowOut,columnOut))\n",
    "OutputValue_matrix = np.matrix(np.array(OutputValue))\n",
    "OutputValue_matrix[0,0] = 1\n",
    "OutputValue_matrix[1,0] = 1\n",
    "print(\"Expected Output:\", OutputValue_matrix)\n"
   ]
  },
  {
   "cell_type": "markdown",
   "metadata": {},
   "source": [
    "Lets now calculate the error. Error will be Final output - Expected Output. Back Propagation is the way the weights are trained into each of the layers and kernel. Actually these errors are then passed back from putput to hidden layer and then to kernel as similar to passing the blame."
   ]
  },
  {
   "cell_type": "code",
   "execution_count": 10,
   "metadata": {},
   "outputs": [
    {
     "name": "stdout",
     "output_type": "stream",
     "text": [
      "[[1.84228797]\n",
      " [1.92610417]\n",
      " [1.91539724]]\n",
      "[[1.]\n",
      " [1.]\n",
      " [0.]]\n",
      "Error Term for Hidden Layer: [[-0.84228797]\n",
      " [-0.92610417]\n",
      " [-1.91539724]]\n"
     ]
    }
   ],
   "source": [
    "print(Output_hidden_layer_after_bias)\n",
    "print(OutputValue_matrix)\n",
    "Gradient_Error_Value_1st_Iter = np.subtract(OutputValue_matrix,Output_hidden_layer_after_bias)\n",
    "print(\"Error Term for Hidden Layer:\", Gradient_Error_Value_1st_Iter)\n"
   ]
  },
  {
   "cell_type": "markdown",
   "metadata": {},
   "source": [
    "Backpropagation is splitted into two section and they are -Transfer Derivative and -Error Backpropagation. The hidden layer has sigmoid activation function and hence and the derivative of the same will be as follows. Aim is to adjust each weight in the network in proportion to how much it contributes to overall error."
   ]
  },
  {
   "cell_type": "code",
   "execution_count": 11,
   "metadata": {},
   "outputs": [],
   "source": [
    "## This function is meant for sigmoid derivative\n",
    "def sigmoid(x):\n",
    "    return 1 / (1 + np.exp(-x))\n"
   ]
  },
  {
   "cell_type": "code",
   "execution_count": 12,
   "metadata": {},
   "outputs": [
    {
     "name": "stdout",
     "output_type": "stream",
     "text": [
      "[[0.55230791]\n",
      " [0.549834  ]\n",
      " [0.31216867]]\n"
     ]
    }
   ],
   "source": [
    "k = sigmoid(Gradient_Error_Value_1st_Iter)\n",
    "#print(k)\n",
    "\n",
    "kky = np.random.rand(3,1)\n",
    "\n",
    "wout_kky = np.matrix(np.array(kky))\n",
    "wout_kky[0,0] = 0.21\n",
    "wout_kky[1,0] = 0.20\n",
    "wout_kky[2,0] = -0.79\n",
    "mk = sigmoid(wout_kky)\n",
    "print(mk)"
   ]
  },
  {
   "cell_type": "markdown",
   "metadata": {},
   "source": [
    "We will now calculate the Output slope. Slope for sigmoid activation function will be calculated as value(1-value)."
   ]
  },
  {
   "cell_type": "code",
   "execution_count": 13,
   "metadata": {},
   "outputs": [
    {
     "name": "stdout",
     "output_type": "stream",
     "text": [
      "Output Slope: [[1.55]\n",
      " [1.78]\n",
      " [1.75]]\n",
      "Output_hidden_layer_after_bias: [[1.84228797]\n",
      " [1.92610417]\n",
      " [1.91539724]]\n",
      "Output_slope_delta: [[0.84228797]\n",
      " [0.92610417]\n",
      " [0.91539724]]\n",
      "Output_slope_matrix: [[1.55]\n",
      " [1.78]\n",
      " [1.75]]\n",
      "Gradient_Error_Value_1st_Iter: [[-0.84228797]\n",
      " [-0.92610417]\n",
      " [-1.91539724]]\n",
      "delta_output_m [[-1.31]\n",
      " [-1.65]\n",
      " [-3.35]]\n"
     ]
    }
   ],
   "source": [
    "Output_slope_delta = np.subtract(Output_hidden_layer_after_bias,1)\n",
    "#Output_slope = np.dot(Output_slope_delta,Output_hidden_layer_after_bias) ## output slope calculated here\n",
    "rowOut =3\n",
    "columnOut =1\n",
    "Output_slope = np.zeros(shape=(rowOut,columnOut))\n",
    "Output_slope_matrix = np.matrix(np.array(Output_slope))\n",
    "\n",
    "#m = value * value1\n",
    "#v = round(m,2)\n",
    "#Output_slope_matrix[0,0] = v\n",
    "num = 0\n",
    "for num in range(0,3):     #to iterate between 10 to 20\n",
    "    Output_slope_matrix[num,0] = round((Output_hidden_layer_after_bias[num,0] * Output_slope_delta[num,0]) ,2)\n",
    "\n",
    "    \n",
    "print(\"Output Slope:\",Output_slope_matrix)\n",
    "print(\"Output_hidden_layer_after_bias:\",Output_hidden_layer_after_bias)      \n",
    "print(\"Output_slope_delta:\",Output_slope_delta) \n",
    "### Now we need to multiply the slope and delta output. Delta output will be driven by error which is the \n",
    "rowOut =3\n",
    "columnOut =1\n",
    "delta_output = np.zeros(shape=(rowOut,columnOut))\n",
    "delta_output_m = np.matrix(np.array(Output_slope))\n",
    "\n",
    "for num in range(0,3):     #to iterate between 10 to 20\n",
    "    delta_output_m[num,0] = round((Output_slope_matrix[num,0] * Gradient_Error_Value_1st_Iter[num,0]) ,2)\n",
    "    \n",
    "print(\"Output_slope_matrix:\",Output_slope_matrix) \n",
    "print(\"Gradient_Error_Value_1st_Iter:\",Gradient_Error_Value_1st_Iter) \n",
    "print(\"delta_output_m\",delta_output_m) "
   ]
  },
  {
   "cell_type": "markdown",
   "metadata": {},
   "source": [
    "We now have calculated delta output and next task is to calculate error at hidden layer, slope at hidden layer and then delta at hidden layer."
   ]
  },
  {
   "cell_type": "code",
   "execution_count": 14,
   "metadata": {},
   "outputs": [
    {
     "name": "stdout",
     "output_type": "stream",
     "text": [
      "Error_Hidden_layer [[-0.98485788 -0.02114117 -0.91973704]\n",
      " [-1.24046985 -0.02662819 -1.15844742]\n",
      " [-2.51852969 -0.0540633  -2.3519993 ]]\n",
      "Slope_hidden_layer [[1.22040227]\n",
      " [1.30421847]\n",
      " [1.29351154]]\n",
      "derivative_hiddenlayer [[-3.23495156 -0.06944217 -3.02104988]\n",
      " [-3.31116667 -0.07107822 -3.09222548]\n",
      " [-3.34295968 -0.0717607  -3.12191628]]\n"
     ]
    }
   ],
   "source": [
    "### First step is to calculate error at hidden layer\n",
    "wout_matrix_T = np.transpose(wout_matrix)\n",
    "Error_Hidden_layer = np.dot(delta_output_m,wout_matrix_T)\n",
    "print(\"Error_Hidden_layer\",Error_Hidden_layer) \n",
    "### Note here have taken the output of the hidden layer and this output is before applying the bias and weights. So this is again as part\n",
    "## of back progation we are doing sigmoid\n",
    "Slope_hidden_layer = sigmoid(Output_hidden_layer)\n",
    "\n",
    "print(\"Slope_hidden_layer\",Output_hidden_layer_after_weight) \n",
    "## we will now calculate the derivative which is multipliction of slope and error\n",
    "derivative_hiddenlayer = Slope_hidden_layer * Error_Hidden_layer\n",
    "print(\"derivative_hiddenlayer\",derivative_hiddenlayer) \n"
   ]
  },
  {
   "cell_type": "markdown",
   "metadata": {},
   "source": [
    "Compute delta at hidden layer and learning_rate is asssumed as 0.1"
   ]
  },
  {
   "cell_type": "code",
   "execution_count": 15,
   "metadata": {},
   "outputs": [
    {
     "name": "stdout",
     "output_type": "stream",
     "text": [
      "wout_matrix_bp [[-0.50725848  0.72477269 -0.42400694]\n",
      " [-1.24292009 -0.01088892 -1.15966854]\n",
      " [-0.55696904  0.67506212 -0.4737175 ]]\n",
      "wout_matrix_bp [[-0.39665352  0.04880353 -0.18238442]\n",
      " [ 0.04097338  0.538555    0.67463943]\n",
      " [ 0.26275322  0.02160416 -0.45254892]\n",
      " [ 0.28774399  0.739567   -0.41195358]]\n"
     ]
    }
   ],
   "source": [
    "learning_rate =0.1\n",
    "Output_hidden_layer_after_weight_T = np.transpose(Output_hidden_layer_after_weight)\n",
    "## we are calculating the hidden layer weights now with back propagation\n",
    "wout_matrix_bp = wout_matrix + np.dot(Output_hidden_layer_after_weight_T,derivative_hiddenlayer) * learning_rate\n",
    "print(\"wout_matrix_bp\",wout_matrix_bp) \n",
    "# we are now calculating the initial kernel filter weights\n",
    "Input_matrix_T = np.transpose(Input_matrix)\n",
    "wh_matrix_bp = wh_matrix + np.dot(Input_matrix_T,derivative_hiddenlayer) * learning_rate\n",
    "print(\"wout_matrix_bp\",wh_matrix_bp) \n"
   ]
  },
  {
   "cell_type": "markdown",
   "metadata": {},
   "source": []
  },
  {
   "cell_type": "markdown",
   "metadata": {},
   "source": [
    "This section explains our intial randomly assigned weights and newly calculated weights after backpropagation."
   ]
  },
  {
   "cell_type": "code",
   "execution_count": 16,
   "metadata": {},
   "outputs": [
    {
     "name": "stdout",
     "output_type": "stream",
     "text": [
      "Initial Weights of Filter: [[0.2579583  0.06285557 0.42894311]\n",
      " [0.37526935 0.54573107 0.98683106]\n",
      " [0.91736504 0.0356562  0.15877861]\n",
      " [0.95315662 0.75385089 0.20946059]]\n",
      "Revised Weights of Filter After Back Propagation: [[-0.50725848  0.72477269 -0.42400694]\n",
      " [-1.24292009 -0.01088892 -1.15966854]\n",
      " [-0.55696904  0.67506212 -0.4737175 ]]\n",
      "Initial Weights of Hidden Layer: [[0.2579583  0.06285557 0.42894311]\n",
      " [0.37526935 0.54573107 0.98683106]\n",
      " [0.91736504 0.0356562  0.15877861]\n",
      " [0.95315662 0.75385089 0.20946059]]\n",
      "Revised Weights of Hidden Layer After Back Propagation: [[-0.39665352  0.04880353 -0.18238442]\n",
      " [ 0.04097338  0.538555    0.67463943]\n",
      " [ 0.26275322  0.02160416 -0.45254892]\n",
      " [ 0.28774399  0.739567   -0.41195358]]\n"
     ]
    }
   ],
   "source": [
    "print(\"Initial Weights of Filter:\", wh_matrix)\n",
    "print(\"Revised Weights of Filter After Back Propagation:\", wout_matrix_bp)\n",
    "\n",
    "print(\"Initial Weights of Hidden Layer:\", wh_matrix)\n",
    "print(\"Revised Weights of Hidden Layer After Back Propagation:\", wh_matrix_bp)"
   ]
  },
  {
   "cell_type": "code",
   "execution_count": null,
   "metadata": {},
   "outputs": [],
   "source": []
  }
 ],
 "metadata": {
  "kernelspec": {
   "display_name": "Python 3",
   "language": "python",
   "name": "python3"
  },
  "language_info": {
   "codemirror_mode": {
    "name": "ipython",
    "version": 3
   },
   "file_extension": ".py",
   "mimetype": "text/x-python",
   "name": "python",
   "nbconvert_exporter": "python",
   "pygments_lexer": "ipython3",
   "version": "3.6.3"
  }
 },
 "nbformat": 4,
 "nbformat_minor": 2
}
